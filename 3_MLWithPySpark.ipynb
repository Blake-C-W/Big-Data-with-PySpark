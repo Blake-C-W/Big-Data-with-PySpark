{
  "nbformat": 4,
  "nbformat_minor": 0,
  "metadata": {
    "colab": {
      "provenance": [],
      "toc_visible": true
    },
    "kernelspec": {
      "name": "python3",
      "display_name": "Python 3"
    },
    "language_info": {
      "name": "python"
    }
  },
  "cells": [
    {
      "cell_type": "code",
      "execution_count": null,
      "metadata": {
        "id": "5X3J8xnQdZlK"
      },
      "outputs": [],
      "source": [
        "# !wget -O flights.csv URL\n",
        "# !wget -O sms.csv URL"
      ]
    },
    {
      "cell_type": "code",
      "source": [
        "%pip install pyspark[sql]\n",
        "%pip install pyspark[pandas_on_spark]"
      ],
      "metadata": {
        "id": "kW6pqaEqdpee"
      },
      "execution_count": null,
      "outputs": []
    },
    {
      "cell_type": "code",
      "source": [
        "import pyspark\n",
        "from pyspark import SparkContext\n",
        "from pyspark.sql import SparkSession\n",
        "from pyspark.sql.types import StructType, StructField, IntegerType, StringType\n",
        "from pyspark.sql.functions import round\n",
        "from pyspark.ml.feature import StringIndexer, VectorAssembler\n",
        "from pyspark.ml.classification import DecisionTreeClassifier\n",
        "from pyspark.ml.classification import LogisticRegression\n",
        "from pyspark.ml.evaluation import MulticlassClassificationEvaluator, BinaryClassificationEvaluator\n",
        "from pyspark.sql.functions import regexp_replace\n",
        "from pyspark.ml.feature import Tokenizer\n",
        "from pyspark.ml.feature import StopWordsRemover, HashingTF, IDF\n",
        "from pyspark.ml.feature import OneHotEncoder\n",
        "from pyspark.ml.regression import LinearRegression\n",
        "from pyspark.ml.evaluation import RegressionEvaluator"
      ],
      "metadata": {
        "id": "hD6lHILAdrmy"
      },
      "execution_count": null,
      "outputs": []
    },
    {
      "cell_type": "code",
      "source": [
        "spark = SparkSession.builder \\\n",
        "    .appName(\"DataCamp Locally\") \\\n",
        "    .master(\"local\") \\\n",
        "    .config(\"spark.driver.memory\", \"4g\") \\\n",
        "    .config(\"spark.executor.memory\", \"4g\") \\\n",
        "    .config(\"spark.ui.port\", \"4040\") \\\n",
        "    .config(\"spark.ui.bindAddress\", \"127.0.0.1\") \\\n",
        "    .getOrCreate()"
      ],
      "metadata": {
        "id": "VosetYC1dvNl"
      },
      "execution_count": null,
      "outputs": []
    },
    {
      "cell_type": "code",
      "source": [
        "# Read data from CSV file\n",
        "flights = spark.read.csv('flights.csv',sep=',',header=True,inferSchema=True,nullValue='NA')\n",
        "\n",
        "# Specify column names and types\n",
        "schema = StructType([\n",
        "    StructField(\"id\", IntegerType()),\n",
        "    StructField(\"text\", StringType()),\n",
        "    StructField(\"label\", IntegerType())\n",
        "])\n",
        "\n",
        "# Load data from a delimited file\n",
        "sms = spark.read.csv(\"sms.csv\", sep=';', header=False, schema=schema)\n",
        "\n",
        "flights.show()"
      ],
      "metadata": {
        "id": "mZqnwVdWIKgK",
        "colab": {
          "base_uri": "https://localhost:8080/"
        },
        "outputId": "1f5184d2-1874-4a67-9ce8-532e49c5b94a"
      },
      "execution_count": null,
      "outputs": [
        {
          "output_type": "stream",
          "name": "stdout",
          "text": [
            "+---+---+---+-------+------+---+----+------+--------+-----+\n",
            "|mon|dom|dow|carrier|flight|org|mile|depart|duration|delay|\n",
            "+---+---+---+-------+------+---+----+------+--------+-----+\n",
            "| 11| 20|  6|     US|    19|JFK|2153|  9.48|     351| NULL|\n",
            "|  0| 22|  2|     UA|  1107|ORD| 316| 16.33|      82|   30|\n",
            "|  2| 20|  4|     UA|   226|SFO| 337|  6.17|      82|   -8|\n",
            "|  9| 13|  1|     AA|   419|ORD|1236| 10.33|     195|   -5|\n",
            "|  4|  2|  5|     AA|   325|ORD| 258|  8.92|      65| NULL|\n",
            "|  5|  2|  1|     UA|   704|SFO| 550|  7.98|     102|    2|\n",
            "|  7|  2|  6|     AA|   380|ORD| 733| 10.83|     135|   54|\n",
            "|  1| 16|  6|     UA|  1477|ORD|1440|   8.0|     232|   -7|\n",
            "|  1| 22|  5|     UA|   620|SJC|1829|  7.98|     250|  -13|\n",
            "| 11|  8|  1|     OO|  5590|SFO| 158|  7.77|      60|   88|\n",
            "|  4| 26|  1|     AA|  1144|SFO|1464| 13.25|     210|  -10|\n",
            "|  4| 25|  0|     AA|   321|ORD| 978| 13.75|     160|   31|\n",
            "|  8| 30|  2|     UA|   646|ORD| 719| 13.28|     151|   16|\n",
            "|  3| 16|  3|     UA|   107|ORD|1745|   9.0|     264|    3|\n",
            "|  0|  3|  4|     AA|  1559|LGA|1097| 17.08|     190|   32|\n",
            "|  5|  9|  1|     UA|   770|SFO| 967|  12.7|     158|   20|\n",
            "|  3| 10|  4|     B6|   937|ORD|1735| 17.58|     265|  155|\n",
            "| 11| 15|  1|     AA|  2303|ORD| 802|  6.75|     160|   23|\n",
            "|  8| 18|  4|     UA|   802|SJC| 948|  6.33|     160|   17|\n",
            "|  2| 14|  5|     B6|    71|JFK| 944|  6.17|     166|    0|\n",
            "+---+---+---+-------+------+---+----+------+--------+-----+\n",
            "only showing top 20 rows\n",
            "\n"
          ]
        }
      ]
    },
    {
      "cell_type": "markdown",
      "source": [
        "# Decision Tree"
      ],
      "metadata": {
        "id": "Y6x1jk_yJGBe"
      }
    },
    {
      "cell_type": "code",
      "source": [
        "# Remove the 'flight' column\n",
        "flights_drop_column = flights.drop('flight')\n",
        "\n",
        "# Remove records with missing 'delay' values\n",
        "flights_valid_delay = flights_drop_column.filter('delay IS NOT NULL')\n",
        "\n",
        "# Remove records with missing values in any column and get the number of remaining rows\n",
        "flights_none_missing = flights_valid_delay.dropna()\n",
        "flights_none_missing.show()"
      ],
      "metadata": {
        "id": "Udwxg0cwIQi6",
        "colab": {
          "base_uri": "https://localhost:8080/"
        },
        "outputId": "0bcc2368-a88e-4ada-8957-392a3a19f914"
      },
      "execution_count": null,
      "outputs": [
        {
          "output_type": "stream",
          "name": "stdout",
          "text": [
            "+---+---+---+-------+---+----+------+--------+-----+\n",
            "|mon|dom|dow|carrier|org|mile|depart|duration|delay|\n",
            "+---+---+---+-------+---+----+------+--------+-----+\n",
            "|  0| 22|  2|     UA|ORD| 316| 16.33|      82|   30|\n",
            "|  2| 20|  4|     UA|SFO| 337|  6.17|      82|   -8|\n",
            "|  9| 13|  1|     AA|ORD|1236| 10.33|     195|   -5|\n",
            "|  5|  2|  1|     UA|SFO| 550|  7.98|     102|    2|\n",
            "|  7|  2|  6|     AA|ORD| 733| 10.83|     135|   54|\n",
            "|  1| 16|  6|     UA|ORD|1440|   8.0|     232|   -7|\n",
            "|  1| 22|  5|     UA|SJC|1829|  7.98|     250|  -13|\n",
            "| 11|  8|  1|     OO|SFO| 158|  7.77|      60|   88|\n",
            "|  4| 26|  1|     AA|SFO|1464| 13.25|     210|  -10|\n",
            "|  4| 25|  0|     AA|ORD| 978| 13.75|     160|   31|\n",
            "|  8| 30|  2|     UA|ORD| 719| 13.28|     151|   16|\n",
            "|  3| 16|  3|     UA|ORD|1745|   9.0|     264|    3|\n",
            "|  0|  3|  4|     AA|LGA|1097| 17.08|     190|   32|\n",
            "|  5|  9|  1|     UA|SFO| 967|  12.7|     158|   20|\n",
            "|  3| 10|  4|     B6|ORD|1735| 17.58|     265|  155|\n",
            "| 11| 15|  1|     AA|ORD| 802|  6.75|     160|   23|\n",
            "|  8| 18|  4|     UA|SJC| 948|  6.33|     160|   17|\n",
            "|  2| 14|  5|     B6|JFK| 944|  6.17|     166|    0|\n",
            "|  7| 21|  4|     OO|ORD| 607|  19.0|     110|   21|\n",
            "| 11|  6|  6|     OO|SFO| 316|  8.75|      82|   40|\n",
            "+---+---+---+-------+---+----+------+--------+-----+\n",
            "only showing top 20 rows\n",
            "\n"
          ]
        }
      ]
    },
    {
      "cell_type": "code",
      "source": [
        "# Convert 'mile' to 'km' and drop 'mile' column (1 mile is equivalent to 1.60934 km)\n",
        "flights_km = flights_none_missing.withColumn('km', round(flights.mile * 1.60934, 0)).drop('mile')\n",
        "\n",
        "# Create 'label' column indicating whether flight delayed (1) or not (0)\n",
        "flights_km = flights_km.withColumn('label', (flights_km.delay >= 15).cast('integer'))"
      ],
      "metadata": {
        "id": "LnzXutWGbKq_"
      },
      "execution_count": null,
      "outputs": []
    },
    {
      "cell_type": "code",
      "source": [
        "# Create an indexer\n",
        "indexer = StringIndexer(inputCol='carrier', outputCol='carrier_idx')\n",
        "\n",
        "# Indexer identifies categories in the data\n",
        "indexer_model = indexer.fit(flights_km)\n",
        "\n",
        "# Indexer creates a new column with numeric index values\n",
        "flights_indexed = indexer_model.transform(flights_km)\n",
        "\n",
        "# Repeat the process for the other categorical feature\n",
        "flights_indexed = StringIndexer(inputCol='org', outputCol='org_idx').fit(flights_indexed).transform(flights_indexed)"
      ],
      "metadata": {
        "id": "sMYQnLC1b7Li"
      },
      "execution_count": null,
      "outputs": []
    },
    {
      "cell_type": "code",
      "source": [
        "# Create an assembler object\n",
        "assembler = VectorAssembler(inputCols=[\n",
        "    'mon', 'dom', 'dow', 'carrier_idx', 'org_idx', 'depart', 'duration'\n",
        "], outputCol='features')\n",
        "\n",
        "# Consolidate predictor columns\n",
        "flights_assembled = assembler.transform(flights_indexed)\n",
        "flights_assembled.show()"
      ],
      "metadata": {
        "colab": {
          "base_uri": "https://localhost:8080/"
        },
        "id": "VIao5eDCc7DB",
        "outputId": "1ccac0e8-7921-4c3d-e2f6-185a9b252e7f"
      },
      "execution_count": null,
      "outputs": [
        {
          "output_type": "stream",
          "name": "stdout",
          "text": [
            "+---+---+---+-------+---+------+--------+-----+------+-----+-----------+-------+--------------------+\n",
            "|mon|dom|dow|carrier|org|depart|duration|delay|    km|label|carrier_idx|org_idx|            features|\n",
            "+---+---+---+-------+---+------+--------+-----+------+-----+-----------+-------+--------------------+\n",
            "|  0| 22|  2|     UA|ORD| 16.33|      82|   30| 509.0|    1|        0.0|    0.0|[0.0,22.0,2.0,0.0...|\n",
            "|  2| 20|  4|     UA|SFO|  6.17|      82|   -8| 542.0|    0|        0.0|    1.0|[2.0,20.0,4.0,0.0...|\n",
            "|  9| 13|  1|     AA|ORD| 10.33|     195|   -5|1989.0|    0|        1.0|    0.0|[9.0,13.0,1.0,1.0...|\n",
            "|  5|  2|  1|     UA|SFO|  7.98|     102|    2| 885.0|    0|        0.0|    1.0|[5.0,2.0,1.0,0.0,...|\n",
            "|  7|  2|  6|     AA|ORD| 10.83|     135|   54|1180.0|    1|        1.0|    0.0|[7.0,2.0,6.0,1.0,...|\n",
            "|  1| 16|  6|     UA|ORD|   8.0|     232|   -7|2317.0|    0|        0.0|    0.0|[1.0,16.0,6.0,0.0...|\n",
            "|  1| 22|  5|     UA|SJC|  7.98|     250|  -13|2943.0|    0|        0.0|    5.0|[1.0,22.0,5.0,0.0...|\n",
            "| 11|  8|  1|     OO|SFO|  7.77|      60|   88| 254.0|    1|        2.0|    1.0|[11.0,8.0,1.0,2.0...|\n",
            "|  4| 26|  1|     AA|SFO| 13.25|     210|  -10|2356.0|    0|        1.0|    1.0|[4.0,26.0,1.0,1.0...|\n",
            "|  4| 25|  0|     AA|ORD| 13.75|     160|   31|1574.0|    1|        1.0|    0.0|[4.0,25.0,0.0,1.0...|\n",
            "|  8| 30|  2|     UA|ORD| 13.28|     151|   16|1157.0|    1|        0.0|    0.0|[8.0,30.0,2.0,0.0...|\n",
            "|  3| 16|  3|     UA|ORD|   9.0|     264|    3|2808.0|    0|        0.0|    0.0|[3.0,16.0,3.0,0.0...|\n",
            "|  0|  3|  4|     AA|LGA| 17.08|     190|   32|1765.0|    1|        1.0|    3.0|[0.0,3.0,4.0,1.0,...|\n",
            "|  5|  9|  1|     UA|SFO|  12.7|     158|   20|1556.0|    1|        0.0|    1.0|[5.0,9.0,1.0,0.0,...|\n",
            "|  3| 10|  4|     B6|ORD| 17.58|     265|  155|2792.0|    1|        4.0|    0.0|[3.0,10.0,4.0,4.0...|\n",
            "| 11| 15|  1|     AA|ORD|  6.75|     160|   23|1291.0|    1|        1.0|    0.0|[11.0,15.0,1.0,1....|\n",
            "|  8| 18|  4|     UA|SJC|  6.33|     160|   17|1526.0|    1|        0.0|    5.0|[8.0,18.0,4.0,0.0...|\n",
            "|  2| 14|  5|     B6|JFK|  6.17|     166|    0|1519.0|    0|        4.0|    2.0|[2.0,14.0,5.0,4.0...|\n",
            "|  7| 21|  4|     OO|ORD|  19.0|     110|   21| 977.0|    1|        2.0|    0.0|[7.0,21.0,4.0,2.0...|\n",
            "| 11|  6|  6|     OO|SFO|  8.75|      82|   40| 509.0|    1|        2.0|    1.0|[11.0,6.0,6.0,2.0...|\n",
            "+---+---+---+-------+---+------+--------+-----+------+-----+-----------+-------+--------------------+\n",
            "only showing top 20 rows\n",
            "\n"
          ]
        }
      ]
    },
    {
      "cell_type": "code",
      "source": [
        "# Split into training and testing sets in a 80:20 ratio\n",
        "flights_train, flights_test = flights_assembled.randomSplit([0.8, 0.2], seed=43)\n",
        "\n",
        "# Check that training set has around 80% of records\n",
        "training_ratio = flights_train.count() / flights_assembled.count()"
      ],
      "metadata": {
        "id": "40LXdLhceljT"
      },
      "execution_count": null,
      "outputs": []
    },
    {
      "cell_type": "code",
      "source": [
        "# Create a classifier object and fit to the training data\n",
        "tree = DecisionTreeClassifier()\n",
        "tree_model = tree.fit(flights_train)\n",
        "\n",
        "# Create predictions for the testing data and take a look at the predictions\n",
        "prediction = tree_model.transform(flights_test)"
      ],
      "metadata": {
        "id": "NOHIlCZYe5p6"
      },
      "execution_count": null,
      "outputs": []
    },
    {
      "cell_type": "code",
      "source": [
        "# Create a confusion matrix\n",
        "prediction.groupBy('label', 'prediction').count().show()\n",
        "\n",
        "# Calculate the elements of the confusion matrix\n",
        "TN = prediction.filter('prediction = 0 AND label = prediction').count()\n",
        "TP = prediction.filter('prediction = 1 AND label = prediction').count()\n",
        "FN = prediction.filter('prediction = 0 AND label != prediction').count()\n",
        "FP = prediction.filter('prediction = 1 AND label != prediction').count()\n",
        "\n",
        "# Accuracy measures the proportion of correct predictions\n",
        "accuracy = (TN + TP) / (TN + TP + FN + FP)\n",
        "print(accuracy)"
      ],
      "metadata": {
        "colab": {
          "base_uri": "https://localhost:8080/"
        },
        "id": "o7IYjohsgNqr",
        "outputId": "6f97deaa-846b-483c-cab3-89e1a182dc93"
      },
      "execution_count": null,
      "outputs": [
        {
          "output_type": "stream",
          "name": "stdout",
          "text": [
            "+-----+----------+-----+\n",
            "|label|prediction|count|\n",
            "+-----+----------+-----+\n",
            "|    1|       0.0| 1157|\n",
            "|    0|       0.0| 2307|\n",
            "|    1|       1.0| 3606|\n",
            "|    0|       1.0| 2215|\n",
            "+-----+----------+-----+\n",
            "\n",
            "0.6368336025848143\n"
          ]
        }
      ]
    },
    {
      "cell_type": "markdown",
      "source": [
        "# Logistic Regression"
      ],
      "metadata": {
        "id": "LqXPZFszjS5U"
      }
    },
    {
      "cell_type": "code",
      "source": [
        "# Create a classifier object and train on training data\n",
        "logistic = LogisticRegression().fit(flights_train)\n",
        "\n",
        "# Create predictions for the testing data and show confusion matrix\n",
        "prediction = logistic.transform(flights_test)"
      ],
      "metadata": {
        "id": "0VudRCPtjZRm"
      },
      "execution_count": null,
      "outputs": []
    },
    {
      "cell_type": "code",
      "source": [
        "# Calculate precision and recall\n",
        "precision = TP / (TP + FP)\n",
        "recall = TP / (TP + FN)\n",
        "print('precision = {:.2f}\\nrecall    = {:.2f}'.format(precision, recall))\n",
        "\n",
        "# Find weighted precision\n",
        "multi_evaluator = MulticlassClassificationEvaluator()\n",
        "weighted_precision = multi_evaluator.evaluate(prediction, {multi_evaluator.metricName: \"weightedPrecision\"})\n",
        "\n",
        "# Find AUC\n",
        "binary_evaluator = BinaryClassificationEvaluator()\n",
        "auc = binary_evaluator.evaluate(prediction, {binary_evaluator.metricName: \"areaUnderROC\"})"
      ],
      "metadata": {
        "colab": {
          "base_uri": "https://localhost:8080/"
        },
        "id": "pjXYy7kCkE1T",
        "outputId": "e5b4739b-8eec-4be9-fc99-8183df87cd2a"
      },
      "execution_count": null,
      "outputs": [
        {
          "output_type": "stream",
          "name": "stdout",
          "text": [
            "precision = 0.62\n",
            "recall    = 0.76\n"
          ]
        }
      ]
    },
    {
      "cell_type": "markdown",
      "source": [
        "# Spam Classifier"
      ],
      "metadata": {
        "id": "ZrCXZ0PVlbkF"
      }
    },
    {
      "cell_type": "code",
      "source": [
        "# Remove punctuation (REGEX provided) and numbers\n",
        "wrangled = sms.withColumn('text', regexp_replace(sms.text, '[_():;,.!?\\\\-]', ' '))\n",
        "wrangled = wrangled.withColumn('text', regexp_replace(wrangled.text, '[0-9]', ' '))\n",
        "\n",
        "# Merge multiple spaces\n",
        "wrangled = wrangled.withColumn('text', regexp_replace(wrangled.text, ' +', ' '))\n",
        "\n",
        "# Split the text into words\n",
        "wrangled = Tokenizer(inputCol='text', outputCol='words').transform(wrangled)\n",
        "\n",
        "wrangled.show(4, truncate=False)"
      ],
      "metadata": {
        "colab": {
          "base_uri": "https://localhost:8080/"
        },
        "id": "YbpWch81lnRA",
        "outputId": "424bb054-8f8a-4235-838f-374ea1d180e4"
      },
      "execution_count": null,
      "outputs": [
        {
          "output_type": "stream",
          "name": "stdout",
          "text": [
            "+---+----------------------------------+-----+------------------------------------------+\n",
            "|id |text                              |label|words                                     |\n",
            "+---+----------------------------------+-----+------------------------------------------+\n",
            "|1  |Sorry I'll call later in meeting  |0    |[sorry, i'll, call, later, in, meeting]   |\n",
            "|2  |Dont worry I guess he's busy      |0    |[dont, worry, i, guess, he's, busy]       |\n",
            "|3  |Call FREEPHONE now                |1    |[call, freephone, now]                    |\n",
            "|4  |Win a cash prize or a prize worth |1    |[win, a, cash, prize, or, a, prize, worth]|\n",
            "+---+----------------------------------+-----+------------------------------------------+\n",
            "only showing top 4 rows\n",
            "\n"
          ]
        }
      ]
    },
    {
      "cell_type": "code",
      "source": [
        "# Remove stop words.\n",
        "wrangled = StopWordsRemover(inputCol='words', outputCol='terms').transform(wrangled)\n",
        "\n",
        "# Apply the hashing trick\n",
        "wrangled = HashingTF(inputCol='terms', outputCol='hash', numFeatures=1024).transform(wrangled)\n",
        "\n",
        "# Convert hashed symbols to TF-IDF\n",
        "tf_idf = IDF(inputCol='hash', outputCol='features').fit(wrangled).transform(wrangled)\n",
        "\n",
        "tf_idf.select('terms', 'features').show(4, truncate=False)"
      ],
      "metadata": {
        "colab": {
          "base_uri": "https://localhost:8080/"
        },
        "id": "dqnKUjbsnXDm",
        "outputId": "5e26a735-fb77-41ca-f195-14c7ec21a53e"
      },
      "execution_count": null,
      "outputs": [
        {
          "output_type": "stream",
          "name": "stdout",
          "text": [
            "+--------------------------------+----------------------------------------------------------------------------------------------------+\n",
            "|terms                           |features                                                                                            |\n",
            "+--------------------------------+----------------------------------------------------------------------------------------------------+\n",
            "|[sorry, call, later, meeting]   |(1024,[138,384,577,996],[2.273418200008753,3.6288353225642043,3.5890949939146903,4.104259019279279])|\n",
            "|[dont, worry, guess, busy]      |(1024,[215,233,276,329],[3.9913186080986836,3.3790235241678332,4.734227298217693,4.58299632849377]) |\n",
            "|[call, freephone]               |(1024,[133,138],[5.367951058306837,2.273418200008753])                                              |\n",
            "|[win, cash, prize, prize, worth]|(1024,[31,47,62,389],[3.6632029660684124,4.754846585420428,4.072170704727778,7.064594791043114])    |\n",
            "+--------------------------------+----------------------------------------------------------------------------------------------------+\n",
            "only showing top 4 rows\n",
            "\n"
          ]
        }
      ]
    },
    {
      "cell_type": "code",
      "source": [
        "# Split the data into training and testing sets\n",
        "sms_train, sms_test = tf_idf.randomSplit([0.8, 0.2], seed=13)\n",
        "\n",
        "# Fit a Logistic Regression model to the training data\n",
        "logistic = LogisticRegression(regParam=0.2).fit(sms_train)\n",
        "\n",
        "# Make predictions on the testing data\n",
        "prediction = logistic.transform(sms_test)\n",
        "\n",
        "# Create a confusion matrix, comparing predictions to known labels\n",
        "prediction.groupBy('label', 'prediction').count().show()"
      ],
      "metadata": {
        "colab": {
          "base_uri": "https://localhost:8080/"
        },
        "id": "HEkfA16ZoAGJ",
        "outputId": "3947ee82-de0a-4634-b85e-ad3a914efe80"
      },
      "execution_count": null,
      "outputs": [
        {
          "output_type": "stream",
          "name": "stdout",
          "text": [
            "+-----+----------+-----+\n",
            "|label|prediction|count|\n",
            "+-----+----------+-----+\n",
            "|    1|       0.0|   41|\n",
            "|    0|       0.0|  948|\n",
            "|    1|       1.0|  105|\n",
            "|    0|       1.0|    2|\n",
            "+-----+----------+-----+\n",
            "\n"
          ]
        }
      ]
    },
    {
      "cell_type": "markdown",
      "source": [
        "# Regression"
      ],
      "metadata": {
        "id": "PgfiJ6tFocCl"
      }
    },
    {
      "cell_type": "code",
      "source": [
        "# Create an instance of the one hot encoder\n",
        "onehot = OneHotEncoder(inputCols=['org_idx'], outputCols=['features'])\n",
        "\n",
        "# Apply the one hot encoder to the flights data\n",
        "onehot = onehot.fit(flights_indexed)\n",
        "flights_onehot = onehot.transform(flights_indexed)\n",
        "\n",
        "# Check the results\n",
        "flights_onehot.show()"
      ],
      "metadata": {
        "colab": {
          "base_uri": "https://localhost:8080/"
        },
        "id": "BDThN0c_odJA",
        "outputId": "bfe91023-7794-4467-b299-6221e498cdfe"
      },
      "execution_count": null,
      "outputs": [
        {
          "output_type": "stream",
          "name": "stdout",
          "text": [
            "+---+---+---+-------+---+------+--------+-----+------+-----+-----------+-------+-------------+\n",
            "|mon|dom|dow|carrier|org|depart|duration|delay|    km|label|carrier_idx|org_idx|     features|\n",
            "+---+---+---+-------+---+------+--------+-----+------+-----+-----------+-------+-------------+\n",
            "|  0| 22|  2|     UA|ORD| 16.33|      82|   30| 509.0|    1|        0.0|    0.0|(7,[0],[1.0])|\n",
            "|  2| 20|  4|     UA|SFO|  6.17|      82|   -8| 542.0|    0|        0.0|    1.0|(7,[1],[1.0])|\n",
            "|  9| 13|  1|     AA|ORD| 10.33|     195|   -5|1989.0|    0|        1.0|    0.0|(7,[0],[1.0])|\n",
            "|  5|  2|  1|     UA|SFO|  7.98|     102|    2| 885.0|    0|        0.0|    1.0|(7,[1],[1.0])|\n",
            "|  7|  2|  6|     AA|ORD| 10.83|     135|   54|1180.0|    1|        1.0|    0.0|(7,[0],[1.0])|\n",
            "|  1| 16|  6|     UA|ORD|   8.0|     232|   -7|2317.0|    0|        0.0|    0.0|(7,[0],[1.0])|\n",
            "|  1| 22|  5|     UA|SJC|  7.98|     250|  -13|2943.0|    0|        0.0|    5.0|(7,[5],[1.0])|\n",
            "| 11|  8|  1|     OO|SFO|  7.77|      60|   88| 254.0|    1|        2.0|    1.0|(7,[1],[1.0])|\n",
            "|  4| 26|  1|     AA|SFO| 13.25|     210|  -10|2356.0|    0|        1.0|    1.0|(7,[1],[1.0])|\n",
            "|  4| 25|  0|     AA|ORD| 13.75|     160|   31|1574.0|    1|        1.0|    0.0|(7,[0],[1.0])|\n",
            "|  8| 30|  2|     UA|ORD| 13.28|     151|   16|1157.0|    1|        0.0|    0.0|(7,[0],[1.0])|\n",
            "|  3| 16|  3|     UA|ORD|   9.0|     264|    3|2808.0|    0|        0.0|    0.0|(7,[0],[1.0])|\n",
            "|  0|  3|  4|     AA|LGA| 17.08|     190|   32|1765.0|    1|        1.0|    3.0|(7,[3],[1.0])|\n",
            "|  5|  9|  1|     UA|SFO|  12.7|     158|   20|1556.0|    1|        0.0|    1.0|(7,[1],[1.0])|\n",
            "|  3| 10|  4|     B6|ORD| 17.58|     265|  155|2792.0|    1|        4.0|    0.0|(7,[0],[1.0])|\n",
            "| 11| 15|  1|     AA|ORD|  6.75|     160|   23|1291.0|    1|        1.0|    0.0|(7,[0],[1.0])|\n",
            "|  8| 18|  4|     UA|SJC|  6.33|     160|   17|1526.0|    1|        0.0|    5.0|(7,[5],[1.0])|\n",
            "|  2| 14|  5|     B6|JFK|  6.17|     166|    0|1519.0|    0|        4.0|    2.0|(7,[2],[1.0])|\n",
            "|  7| 21|  4|     OO|ORD|  19.0|     110|   21| 977.0|    1|        2.0|    0.0|(7,[0],[1.0])|\n",
            "| 11|  6|  6|     OO|SFO|  8.75|      82|   40| 509.0|    1|        2.0|    1.0|(7,[1],[1.0])|\n",
            "+---+---+---+-------+---+------+--------+-----+------+-----+-----------+-------+-------------+\n",
            "only showing top 20 rows\n",
            "\n"
          ]
        }
      ]
    },
    {
      "cell_type": "code",
      "source": [
        "# Split the data into training and testing sets\n",
        "flights_train, flights_test = flights_onehot.randomSplit([0.8, 0.2], seed=13)\n",
        "\n",
        "# Create a regression object and train on training data\n",
        "regression = LinearRegression(labelCol='duration').fit(flights_train)\n",
        "\n",
        "# Create predictions for the testing data and take a look at the predictions\n",
        "predictions = regression.transform(flights_test)\n",
        "predictions.select('duration', 'prediction').show(5, False)\n",
        "\n",
        "# Calculate the RMSE\n",
        "RegressionEvaluator(labelCol='duration').evaluate(predictions)"
      ],
      "metadata": {
        "colab": {
          "base_uri": "https://localhost:8080/"
        },
        "id": "aa0K7Nmyt0y3",
        "outputId": "d1b8b7e5-7cba-4c72-fb7a-06d5f07666ca"
      },
      "execution_count": null,
      "outputs": [
        {
          "output_type": "stream",
          "name": "stdout",
          "text": [
            "+--------+------------------+\n",
            "|duration|prediction        |\n",
            "+--------+------------------+\n",
            "|385     |208.71140609636188|\n",
            "|250     |154.08113311331132|\n",
            "|120     |147.0771854120267 |\n",
            "|90      |147.0771854120267 |\n",
            "|135     |147.0771854120267 |\n",
            "+--------+------------------+\n",
            "only showing top 5 rows\n",
            "\n"
          ]
        },
        {
          "output_type": "execute_result",
          "data": {
            "text/plain": [
              "82.6564570472545"
            ]
          },
          "metadata": {},
          "execution_count": 124
        }
      ]
    }
  ]
}